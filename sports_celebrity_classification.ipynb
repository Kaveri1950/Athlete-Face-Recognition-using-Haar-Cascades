{
 "cells": [
  {
   "cell_type": "code",
   "execution_count": 1,
   "metadata": {},
   "outputs": [],
   "source": [
    "import os\n",
    "import cv2\n",
    "import numpy as np\n",
    "import pywt\n",
    "import matplotlib.pyplot as plt\n",
    "%matplotlib inline"
   ]
  },
  {
   "cell_type": "code",
   "execution_count": 2,
   "metadata": {},
   "outputs": [],
   "source": [
    "# === Haar Cascade Classifiers ===\n",
    "face_cascade = cv2.CascadeClassifier('./opencv/haarcascades/haarcascade_frontalface_default.xml')\n",
    "eye_cascade = cv2.CascadeClassifier('./opencv/haarcascades/haarcascade_eye.xml')"
   ]
  },
  {
   "cell_type": "code",
   "execution_count": 3,
   "metadata": {},
   "outputs": [],
   "source": [
    "# === Wavelet Transform Function ===\n",
    "def w2d(img, mode='haar', level=1):\n",
    "    imArray = cv2.cvtColor(img, cv2.COLOR_RGB2GRAY)\n",
    "    imArray = np.float32(imArray)\n",
    "    imArray /= 255\n",
    "    coeffs = pywt.wavedec2(imArray, mode, level=level)\n",
    "    coeffs_H = list(coeffs)\n",
    "    coeffs_H[0] *= 0\n",
    "    imArray_H = pywt.waverec2(coeffs_H, mode)\n",
    "    imArray_H *= 255\n",
    "    imArray_H = np.uint8(imArray_H)\n",
    "    return imArray_H"
   ]
  },
  {
   "cell_type": "code",
   "execution_count": 4,
   "metadata": {},
   "outputs": [],
   "source": [
    "# === Face and Eye Detector ===\n",
    "def get_cropped_image_if_2_eyes(image_path):\n",
    "    img = cv2.imread(image_path)\n",
    "    if img is None:\n",
    "        return None\n",
    "    gray = cv2.cvtColor(img, cv2.COLOR_BGR2GRAY)\n",
    "    faces = face_cascade.detectMultiScale(gray, 1.3, 5)\n",
    "    for (x, y, w, h) in faces:\n",
    "        roi_gray = gray[y:y + h, x:x + w]\n",
    "        roi_color = img[y:y + h, x:x + w]\n",
    "        eyes = eye_cascade.detectMultiScale(roi_gray)\n",
    "        if len(eyes) >= 2:\n",
    "            return roi_color\n",
    "    return None\n"
   ]
  },
  {
   "cell_type": "code",
   "execution_count": 5,
   "metadata": {},
   "outputs": [],
   "source": [
    "# === Paths ===\n",
    "path_to_data = \"athletes_dataset_4\"\n",
    "path_to_cr_data = os.path.join(path_to_data, \"cropped\")\n",
    "\n",
    "# === Collect image directories ===\n",
    "img_dirs = [entry.path for entry in os.scandir(path_to_data) if entry.is_dir()]\n",
    "\n",
    "# === Clear cropped directory if it exists ===\n",
    "import shutil\n",
    "if os.path.exists(path_to_cr_data):\n",
    "    shutil.rmtree(path_to_cr_data)\n",
    "os.makedirs(path_to_cr_data)"
   ]
  },
  {
   "cell_type": "code",
   "execution_count": 6,
   "metadata": {},
   "outputs": [
    {
     "name": "stdout",
     "output_type": "stream",
     "text": [
      " Generating cropped images in folder: athletes_dataset_4\\cropped\\Allyson_Felix\n",
      " Generating cropped images in folder: athletes_dataset_4\\cropped\\Anthony_Davis\n",
      " Generating cropped images in folder: athletes_dataset_4\\cropped\\Antoine_Griezmann\n",
      " Generating cropped images in folder: athletes_dataset_4\\cropped\\Aryna_Sabalenka\n",
      " Generating cropped images in folder: athletes_dataset_4\\cropped\\Babar_Azam\n",
      " Generating cropped images in folder: athletes_dataset_4\\cropped\\Ben_Stokes\n",
      " Generating cropped images in folder: athletes_dataset_4\\cropped\\Carlos_Alcaraz\n",
      " Generating cropped images in folder: athletes_dataset_4\\cropped\\Carl_Lewis\n",
      " Generating cropped images in folder: athletes_dataset_4\\cropped\\Coco_Gauff\n",
      " Generating cropped images in folder: athletes_dataset_4\\cropped\\Cristiano_Ronaldo\n",
      " Generating cropped images in folder: athletes_dataset_4\\cropped\\Daniil_Medvedev\n",
      " Generating cropped images in folder: athletes_dataset_4\\cropped\\Elaine_Thompson-Herah\n",
      " Generating cropped images in folder: athletes_dataset_4\\cropped\\Erling_Haaland\n",
      " Generating cropped images in folder: athletes_dataset_4\\cropped\\Florence_Griffith-Joyner\n",
      " Generating cropped images in folder: athletes_dataset_4\\cropped\\Giannis_Antetokounmpo\n",
      " Generating cropped images in folder: athletes_dataset_4\\cropped\\Hardik_Pandya\n",
      " Generating cropped images in folder: athletes_dataset_4\\cropped\\Harry_Kane\n",
      " Generating cropped images in folder: athletes_dataset_4\\cropped\\James_Harden\n",
      " Generating cropped images in folder: athletes_dataset_4\\cropped\\Jannik_Sinner\n",
      " Generating cropped images in folder: athletes_dataset_4\\cropped\\Jasprit_Bumrah\n",
      " Generating cropped images in folder: athletes_dataset_4\\cropped\\Jayson_Tatum\n",
      " Generating cropped images in folder: athletes_dataset_4\\cropped\\Joe_Root\n",
      " Generating cropped images in folder: athletes_dataset_4\\cropped\\Kane_Williamson\n",
      " Generating cropped images in folder: athletes_dataset_4\\cropped\\Karim_Benzema\n",
      " Generating cropped images in folder: athletes_dataset_4\\cropped\\Kawhi_Leonard\n",
      " Generating cropped images in folder: athletes_dataset_4\\cropped\\Kevin_De_Bruyne\n",
      " Generating cropped images in folder: athletes_dataset_4\\cropped\\Kevin_Durant\n",
      " Generating cropped images in folder: athletes_dataset_4\\cropped\\KL_Rahul\n",
      " Generating cropped images in folder: athletes_dataset_4\\cropped\\Kyrie_Irving\n",
      " Generating cropped images in folder: athletes_dataset_4\\cropped\\LeBron_James\n",
      " Generating cropped images in folder: athletes_dataset_4\\cropped\\Lionel_Messi\n",
      " Generating cropped images in folder: athletes_dataset_4\\cropped\\Mohamed_Salah\n",
      " Generating cropped images in folder: athletes_dataset_4\\cropped\\Mondo_Duplantis\n",
      " Generating cropped images in folder: athletes_dataset_4\\cropped\\MS_Dhoni\n",
      " Generating cropped images in folder: athletes_dataset_4\\cropped\\Naomi_Osaka\n",
      " Generating cropped images in folder: athletes_dataset_4\\cropped\\Neeraj_Chopra\n",
      " Generating cropped images in folder: athletes_dataset_4\\cropped\\Neymar_Jr\n",
      " Generating cropped images in folder: athletes_dataset_4\\cropped\\Novak_Djokovic\n",
      " Generating cropped images in folder: athletes_dataset_4\\cropped\\Paulo_Dybala\n",
      " Generating cropped images in folder: athletes_dataset_4\\cropped\\Rafael_Nadal\n",
      " Generating cropped images in folder: athletes_dataset_4\\cropped\\Rishabh_Pant\n",
      " Generating cropped images in folder: athletes_dataset_4\\cropped\\Robert_Lewandowski\n",
      " Generating cropped images in folder: athletes_dataset_4\\cropped\\Roger_Federer\n",
      " Generating cropped images in folder: athletes_dataset_4\\cropped\\Rohit_Sharma\n",
      " Generating cropped images in folder: athletes_dataset_4\\cropped\\Sachin_Tendulkar\n",
      " Generating cropped images in folder: athletes_dataset_4\\cropped\\Shelly-Ann_Fraser-Pryce\n",
      " Generating cropped images in folder: athletes_dataset_4\\cropped\\Shubman_Gill\n",
      " Generating cropped images in folder: athletes_dataset_4\\cropped\\Son_Heung-min\n",
      " Generating cropped images in folder: athletes_dataset_4\\cropped\\Stephen_Curry\n",
      " Generating cropped images in folder: athletes_dataset_4\\cropped\\Steve_Smith\n",
      " Generating cropped images in folder: athletes_dataset_4\\cropped\\Sydney_McLaughlin\n",
      " Generating cropped images in folder: athletes_dataset_4\\cropped\\Usain_Bolt\n",
      " Generating cropped images in folder: athletes_dataset_4\\cropped\\Virat_Kohli\n",
      " Generating cropped images in folder: athletes_dataset_4\\cropped\\Virgil_van_Dijk\n",
      " Generating cropped images in folder: athletes_dataset_4\\cropped\\Yulimar_Rojas\n",
      " Generating cropped images in folder: athletes_dataset_4\\cropped\\Yuvraj_Singh\n"
     ]
    }
   ],
   "source": [
    "# === Crop and Save Valid Face Images ===\n",
    "cropped_image_dirs = []\n",
    "celebrity_file_names_dict = {}\n",
    "\n",
    "for img_dir in img_dirs:\n",
    "    count = 1\n",
    "    celebrity_name = os.path.basename(img_dir)\n",
    "    celebrity_file_names_dict[celebrity_name] = []\n",
    "\n",
    "    for entry in os.scandir(img_dir):\n",
    "        if entry.is_file() and entry.name.lower().endswith(('.jpg', '.jpeg', '.png')):\n",
    "            roi_color = get_cropped_image_if_2_eyes(entry.path)\n",
    "\n",
    "            if roi_color is not None:\n",
    "                cropped_folder = os.path.join(path_to_cr_data, celebrity_name)\n",
    "\n",
    "                if not os.path.exists(cropped_folder):\n",
    "                    os.makedirs(cropped_folder)\n",
    "                    cropped_image_dirs.append(cropped_folder)\n",
    "                    print(\" Generating cropped images in folder:\", cropped_folder)\n",
    "\n",
    "                cropped_file_name = f\"{celebrity_name}{count}.png\"\n",
    "                cropped_file_path = os.path.join(cropped_folder, cropped_file_name)\n",
    "\n",
    "                cv2.imwrite(cropped_file_path, roi_color)\n",
    "                celebrity_file_names_dict[celebrity_name].append(cropped_file_path)\n",
    "                count += 1\n"
   ]
  },
  {
   "cell_type": "code",
   "execution_count": 24,
   "metadata": {},
   "outputs": [
    {
     "name": "stdout",
     "output_type": "stream",
     "text": [
      "\n",
      " Verifying files per celebrity:\n",
      "Aryna_Sabalenka: 57 files\n",
      "Cristiano_Ronaldo: 64 files\n",
      "Giannis_Antetokounmpo: 57 files\n",
      "Hardik_Pandya: 62 files\n",
      "Karim_Benzema: 50 files\n",
      "Neymar_Jr: 50 files\n",
      "Paulo_Dybala: 51 files\n",
      "Robert_Lewandowski: 60 files\n",
      "Sachin_Tendulkar: 54 files\n",
      "Stephen_Curry: 56 files\n",
      "Sydney_McLaughlin: 58 files\n",
      "Virgil_van_Dijk: 55 files\n"
     ]
    }
   ],
   "source": [
    "# === Double Check: Print cropped_image_dirs ===\n",
    "#print(\"\\n Final cropped_image_dirs:\")\n",
    "#for folder in cropped_image_dirs:\n",
    "#    print(folder, \"→\", os.listdir(folder))\n",
    "\n",
    "# === Check loaded file lists from cropped folders ===\n",
    "print(\"\\n Verifying files per celebrity:\")\n",
    "for celeb, files in celebrity_file_names_dict.items():\n",
    "    print(f\"{celeb}: {len(files)} files\")\n"
   ]
  },
  {
   "cell_type": "code",
   "execution_count": 16,
   "metadata": {},
   "outputs": [
    {
     "name": "stdout",
     "output_type": "stream",
     "text": [
      "\n",
      "After filtering, 12 classes kept out of 29\n"
     ]
    }
   ],
   "source": [
    "# === Filter out classes with fewer than N images ===\n",
    "min_images = 50\n",
    "filtered_celebrity_file_names_dict = {\n",
    "    celeb: files\n",
    "    for celeb, files in celebrity_file_names_dict.items()\n",
    "    if len(files) >= min_images\n",
    "}\n",
    "\n",
    "print(f\"\\nAfter filtering, {len(filtered_celebrity_file_names_dict)} classes kept out of {len(celebrity_file_names_dict)}\")\n",
    "\n",
    "# Update downstream variables\n",
    "celebrity_file_names_dict = filtered_celebrity_file_names_dict\n",
    "class_dict = {name: idx for idx, name in enumerate(celebrity_file_names_dict.keys())}\n"
   ]
  },
  {
   "cell_type": "code",
   "execution_count": 17,
   "metadata": {},
   "outputs": [],
   "source": [
    "\n",
    "# === Prepare Feature Matrix (X) and Labels (y) ===\n",
    "X, y = [], []\n",
    "for celebrity_name, training_files in celebrity_file_names_dict.items():\n",
    "    for training_image in training_files:\n",
    "        img = cv2.imread(training_image)\n",
    "        scalled_raw_img = cv2.resize(img, (32, 32))\n",
    "        img_har = w2d(img, 'db1', 5)\n",
    "        scalled_img_har = cv2.resize(img_har, (32, 32))\n",
    "        combined_img = np.vstack((\n",
    "            scalled_raw_img.reshape(32 * 32 * 3, 1),\n",
    "            scalled_img_har.reshape(32 * 32, 1)\n",
    "        ))\n",
    "        X.append(combined_img)\n",
    "        y.append(class_dict[celebrity_name])\n",
    "\n",
    "X = np.array(X).reshape(len(X), 4096).astype(float)\n",
    "y = np.array(y)\n"
   ]
  },
  {
   "cell_type": "code",
   "execution_count": 18,
   "metadata": {},
   "outputs": [
    {
     "name": "stdout",
     "output_type": "stream",
     "text": [
      "\n",
      "Accuracy: 0.6627218934911243\n",
      "              precision    recall  f1-score   support\n",
      "\n",
      "           0       0.62      0.44      0.52        18\n",
      "           1       0.63      0.86      0.73        14\n",
      "           2       0.69      0.85      0.76        13\n",
      "           3       0.46      0.85      0.59        13\n",
      "           4       0.90      0.60      0.72        15\n",
      "           5       0.38      0.25      0.30        12\n",
      "           6       0.83      0.50      0.62        10\n",
      "           7       0.81      0.72      0.76        18\n",
      "           8       0.72      0.76      0.74        17\n",
      "           9       0.78      0.50      0.61        14\n",
      "          10       0.53      1.00      0.69         9\n",
      "          11       0.85      0.69      0.76        16\n",
      "\n",
      "    accuracy                           0.66       169\n",
      "   macro avg       0.68      0.67      0.65       169\n",
      "weighted avg       0.69      0.66      0.66       169\n",
      "\n"
     ]
    }
   ],
   "source": [
    "# === Train/Test Split and Classifier ===\n",
    "from sklearn.model_selection import train_test_split\n",
    "from sklearn.preprocessing import StandardScaler\n",
    "from sklearn.pipeline import Pipeline\n",
    "from sklearn.svm import SVC\n",
    "from sklearn.metrics import classification_report\n",
    "\n",
    "X_train, X_test, y_train, y_test = train_test_split(X, y, random_state=0)\n",
    "\n",
    "pipe = Pipeline([\n",
    "    ('scaler', StandardScaler()),\n",
    "    ('svc', SVC(kernel='rbf', C=10))\n",
    "])\n",
    "pipe.fit(X_train, y_train)\n",
    "\n",
    "print(\"\\nAccuracy:\", pipe.score(X_test, y_test))\n",
    "print(classification_report(y_test, pipe.predict(X_test)))\n"
   ]
  },
  {
   "cell_type": "code",
   "execution_count": 19,
   "metadata": {},
   "outputs": [],
   "source": [
    "# === GridSearchCV for Best Model ===\n",
    "from sklearn import svm\n",
    "from sklearn.ensemble import RandomForestClassifier\n",
    "from sklearn.linear_model import LogisticRegression\n",
    "from sklearn.model_selection import GridSearchCV\n",
    "from sklearn.pipeline import make_pipeline\n",
    "import pandas as pd\n",
    "\n",
    "model_params = {\n",
    "    'svm': {\n",
    "        'model': svm.SVC(gamma='auto', probability=True),\n",
    "        'params': {\n",
    "            'svc__C': [1, 10, 100],\n",
    "            'svc__kernel': ['rbf', 'linear']\n",
    "        }\n",
    "    },\n",
    "    'random_forest': {\n",
    "        'model': RandomForestClassifier(),\n",
    "        'params': {\n",
    "            'randomforestclassifier__n_estimators': [5, 10]\n",
    "        }\n",
    "    },\n",
    "    'logistic_regression': {\n",
    "        'model': LogisticRegression(solver='liblinear', multi_class='auto'),\n",
    "        'params': {\n",
    "            'logisticregression__C': [1, 5, 10]\n",
    "        }\n",
    "    }\n",
    "}\n",
    "\n"
   ]
  },
  {
   "cell_type": "code",
   "execution_count": 20,
   "metadata": {},
   "outputs": [
    {
     "name": "stderr",
     "output_type": "stream",
     "text": [
      "C:\\Users\\Neeli\\AppData\\Local\\Programs\\Python\\Python311\\Lib\\site-packages\\sklearn\\linear_model\\_logistic.py:1247: FutureWarning: 'multi_class' was deprecated in version 1.5 and will be removed in 1.7. From then on, it will always use 'multinomial'. Leave it to its default value to avoid this warning.\n",
      "  warnings.warn(\n",
      "C:\\Users\\Neeli\\AppData\\Local\\Programs\\Python\\Python311\\Lib\\site-packages\\sklearn\\linear_model\\_logistic.py:1247: FutureWarning: 'multi_class' was deprecated in version 1.5 and will be removed in 1.7. From then on, it will always use 'multinomial'. Leave it to its default value to avoid this warning.\n",
      "  warnings.warn(\n",
      "C:\\Users\\Neeli\\AppData\\Local\\Programs\\Python\\Python311\\Lib\\site-packages\\sklearn\\linear_model\\_logistic.py:1247: FutureWarning: 'multi_class' was deprecated in version 1.5 and will be removed in 1.7. From then on, it will always use 'multinomial'. Leave it to its default value to avoid this warning.\n",
      "  warnings.warn(\n",
      "C:\\Users\\Neeli\\AppData\\Local\\Programs\\Python\\Python311\\Lib\\site-packages\\sklearn\\linear_model\\_logistic.py:1247: FutureWarning: 'multi_class' was deprecated in version 1.5 and will be removed in 1.7. From then on, it will always use 'multinomial'. Leave it to its default value to avoid this warning.\n",
      "  warnings.warn(\n",
      "C:\\Users\\Neeli\\AppData\\Local\\Programs\\Python\\Python311\\Lib\\site-packages\\sklearn\\linear_model\\_logistic.py:1247: FutureWarning: 'multi_class' was deprecated in version 1.5 and will be removed in 1.7. From then on, it will always use 'multinomial'. Leave it to its default value to avoid this warning.\n",
      "  warnings.warn(\n",
      "C:\\Users\\Neeli\\AppData\\Local\\Programs\\Python\\Python311\\Lib\\site-packages\\sklearn\\linear_model\\_logistic.py:1247: FutureWarning: 'multi_class' was deprecated in version 1.5 and will be removed in 1.7. From then on, it will always use 'multinomial'. Leave it to its default value to avoid this warning.\n",
      "  warnings.warn(\n",
      "C:\\Users\\Neeli\\AppData\\Local\\Programs\\Python\\Python311\\Lib\\site-packages\\sklearn\\linear_model\\_logistic.py:1247: FutureWarning: 'multi_class' was deprecated in version 1.5 and will be removed in 1.7. From then on, it will always use 'multinomial'. Leave it to its default value to avoid this warning.\n",
      "  warnings.warn(\n",
      "C:\\Users\\Neeli\\AppData\\Local\\Programs\\Python\\Python311\\Lib\\site-packages\\sklearn\\linear_model\\_logistic.py:1247: FutureWarning: 'multi_class' was deprecated in version 1.5 and will be removed in 1.7. From then on, it will always use 'multinomial'. Leave it to its default value to avoid this warning.\n",
      "  warnings.warn(\n",
      "C:\\Users\\Neeli\\AppData\\Local\\Programs\\Python\\Python311\\Lib\\site-packages\\sklearn\\linear_model\\_logistic.py:1247: FutureWarning: 'multi_class' was deprecated in version 1.5 and will be removed in 1.7. From then on, it will always use 'multinomial'. Leave it to its default value to avoid this warning.\n",
      "  warnings.warn(\n",
      "C:\\Users\\Neeli\\AppData\\Local\\Programs\\Python\\Python311\\Lib\\site-packages\\sklearn\\linear_model\\_logistic.py:1247: FutureWarning: 'multi_class' was deprecated in version 1.5 and will be removed in 1.7. From then on, it will always use 'multinomial'. Leave it to its default value to avoid this warning.\n",
      "  warnings.warn(\n",
      "C:\\Users\\Neeli\\AppData\\Local\\Programs\\Python\\Python311\\Lib\\site-packages\\sklearn\\linear_model\\_logistic.py:1247: FutureWarning: 'multi_class' was deprecated in version 1.5 and will be removed in 1.7. From then on, it will always use 'multinomial'. Leave it to its default value to avoid this warning.\n",
      "  warnings.warn(\n",
      "C:\\Users\\Neeli\\AppData\\Local\\Programs\\Python\\Python311\\Lib\\site-packages\\sklearn\\linear_model\\_logistic.py:1247: FutureWarning: 'multi_class' was deprecated in version 1.5 and will be removed in 1.7. From then on, it will always use 'multinomial'. Leave it to its default value to avoid this warning.\n",
      "  warnings.warn(\n",
      "C:\\Users\\Neeli\\AppData\\Local\\Programs\\Python\\Python311\\Lib\\site-packages\\sklearn\\linear_model\\_logistic.py:1247: FutureWarning: 'multi_class' was deprecated in version 1.5 and will be removed in 1.7. From then on, it will always use 'multinomial'. Leave it to its default value to avoid this warning.\n",
      "  warnings.warn(\n",
      "C:\\Users\\Neeli\\AppData\\Local\\Programs\\Python\\Python311\\Lib\\site-packages\\sklearn\\linear_model\\_logistic.py:1247: FutureWarning: 'multi_class' was deprecated in version 1.5 and will be removed in 1.7. From then on, it will always use 'multinomial'. Leave it to its default value to avoid this warning.\n",
      "  warnings.warn(\n",
      "C:\\Users\\Neeli\\AppData\\Local\\Programs\\Python\\Python311\\Lib\\site-packages\\sklearn\\linear_model\\_logistic.py:1247: FutureWarning: 'multi_class' was deprecated in version 1.5 and will be removed in 1.7. From then on, it will always use 'multinomial'. Leave it to its default value to avoid this warning.\n",
      "  warnings.warn(\n",
      "C:\\Users\\Neeli\\AppData\\Local\\Programs\\Python\\Python311\\Lib\\site-packages\\sklearn\\linear_model\\_logistic.py:1247: FutureWarning: 'multi_class' was deprecated in version 1.5 and will be removed in 1.7. From then on, it will always use 'multinomial'. Leave it to its default value to avoid this warning.\n",
      "  warnings.warn(\n"
     ]
    },
    {
     "name": "stdout",
     "output_type": "stream",
     "text": [
      "\n",
      " Model Comparison:\n",
      "                  model  best_score  \\\n",
      "0                  svm    0.669307   \n",
      "1        random_forest    0.368317   \n",
      "2  logistic_regression    0.659406   \n",
      "\n",
      "                                    best_params  \n",
      "0        {'svc__C': 1, 'svc__kernel': 'linear'}  \n",
      "1  {'randomforestclassifier__n_estimators': 10}  \n",
      "2                  {'logisticregression__C': 1}  \n"
     ]
    }
   ],
   "source": [
    "scores = []\n",
    "best_estimators = {}\n",
    "\n",
    "for algo, mp in model_params.items():\n",
    "    pipe = make_pipeline(StandardScaler(), mp['model'])\n",
    "    clf = GridSearchCV(pipe, mp['params'], cv=5, return_train_score=False)\n",
    "    clf.fit(X_train, y_train)\n",
    "    scores.append({\n",
    "        'model': algo,\n",
    "        'best_score': clf.best_score_,\n",
    "        'best_params': clf.best_params_\n",
    "    })\n",
    "    best_estimators[algo] = clf.best_estimator_\n",
    "\n",
    "df = pd.DataFrame(scores, columns=['model', 'best_score', 'best_params'])\n",
    "print(\"\\n Model Comparison:\\n\", df)\n"
   ]
  },
  {
   "cell_type": "code",
   "execution_count": 21,
   "metadata": {},
   "outputs": [
    {
     "data": {
      "image/png": "[encoded data removed]",
      "text/plain": [
       "<Figure size 1000x700 with 2 Axes>"
      ]
     },
     "metadata": {},
     "output_type": "display_data"
    }
   ],
   "source": [
    "# === Confusion Matrix ===\n",
    "from sklearn.metrics import confusion_matrix\n",
    "import seaborn as sn\n",
    "\n",
    "best_clf = best_estimators['svm']\n",
    "cm = confusion_matrix(y_test, best_clf.predict(X_test))\n",
    "\n",
    "plt.figure(figsize=(10, 7))\n",
    "sn.heatmap(cm, annot=True)\n",
    "plt.xlabel(\"Predicted\")\n",
    "plt.ylabel(\"Truth\")\n",
    "plt.title(\"Confusion Matrix\")\n",
    "plt.show()"
   ]
  },
  {
   "cell_type": "code",
   "execution_count": 22,
   "metadata": {},
   "outputs": [
    {
     "name": "stdout",
     "output_type": "stream",
     "text": [
      "\n",
      " Model and class dictionary saved.\n"
     ]
    }
   ],
   "source": [
    "# === Save the Model and Class Dictionary ===\n",
    "import joblib\n",
    "joblib.dump(best_clf, 'saved_model.pkl')\n",
    "\n",
    "import json\n",
    "with open(\"class_dictionary.json\", \"w\") as f:\n",
    "    json.dump(class_dict, f)\n",
    "\n",
    "print(\"\\n Model and class dictionary saved.\")\n"
   ]
  },
  {
   "cell_type": "code",
   "execution_count": null,
   "metadata": {},
   "outputs": [],
   "source": []
  }
 ],
 "metadata": {
  "kernelspec": {
   "display_name": "Python 3 (ipykernel)",
   "language": "python",
   "name": "python3"
  },
  "language_info": {
   "codemirror_mode": {
    "name": "ipython",
    "version": 3
   },
   "file_extension": ".py",
   "mimetype": "text/x-python",
   "name": "python",
   "nbconvert_exporter": "python",
   "pygments_lexer": "ipython3",
   "version": "3.11.0"
  }
 },
 "nbformat": 4,
 "nbformat_minor": 4
}
